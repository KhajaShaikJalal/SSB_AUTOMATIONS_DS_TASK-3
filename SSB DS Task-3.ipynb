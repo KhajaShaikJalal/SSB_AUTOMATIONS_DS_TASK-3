{
 "cells": [
  {
   "cell_type": "code",
   "execution_count": 1,
   "id": "896c51ee-4fc6-4cf3-b365-476cd1b5896b",
   "metadata": {},
   "outputs": [],
   "source": [
    "import pandas as pd"
   ]
  },
  {
   "cell_type": "code",
   "execution_count": 3,
   "id": "f6f43959-acde-4e76-a431-b97eed199d7e",
   "metadata": {},
   "outputs": [],
   "source": [
    "import numpy as np"
   ]
  },
  {
   "cell_type": "code",
   "execution_count": 7,
   "id": "8fae6f47-1ff0-4bc7-9031-3b2c7b3ac73a",
   "metadata": {},
   "outputs": [],
   "source": [
    "df = pd.read_csv(r\"C:\\Users\\sjkha\\OneDrive\\Desktop\\mycar.csv\")"
   ]
  },
  {
   "cell_type": "code",
   "execution_count": 9,
   "id": "bd54fd49-332b-488a-a059-cd9a6d6d3718",
   "metadata": {},
   "outputs": [
    {
     "name": "stdout",
     "output_type": "stream",
     "text": [
      "   Unnamed: 0  speed  dist\n",
      "0           1      4     2\n",
      "1           2      4    10\n",
      "2           3      7     4\n",
      "3           4      7    22\n",
      "4           5      8    16\n"
     ]
    }
   ],
   "source": [
    "print(df.head())"
   ]
  },
  {
   "cell_type": "code",
   "execution_count": 11,
   "id": "b01069e2-b604-4b51-887c-b4f071c4132c",
   "metadata": {},
   "outputs": [],
   "source": [
    "mean_values = df.mean()"
   ]
  },
  {
   "cell_type": "code",
   "execution_count": 13,
   "id": "8ec57e84-28d0-4264-ac31-f4c95e1637c7",
   "metadata": {},
   "outputs": [
    {
     "name": "stdout",
     "output_type": "stream",
     "text": [
      "\n",
      "Mean:\n",
      " Unnamed: 0    25.50\n",
      "speed         15.40\n",
      "dist          42.98\n",
      "dtype: float64\n"
     ]
    }
   ],
   "source": [
    "print(\"\\nMean:\\n\", mean_values)"
   ]
  },
  {
   "cell_type": "code",
   "execution_count": 15,
   "id": "0f0e9d7e-96c1-4d9a-9027-2ef52e82c913",
   "metadata": {},
   "outputs": [],
   "source": [
    "median_values = df.median()"
   ]
  },
  {
   "cell_type": "code",
   "execution_count": 17,
   "id": "10ca12a5-dcfe-44af-8106-d6f4b6dae334",
   "metadata": {},
   "outputs": [
    {
     "name": "stdout",
     "output_type": "stream",
     "text": [
      "\n",
      "Median:\n",
      " Unnamed: 0    25.5\n",
      "speed         15.0\n",
      "dist          36.0\n",
      "dtype: float64\n"
     ]
    }
   ],
   "source": [
    "print(\"\\nMedian:\\n\", median_values)"
   ]
  },
  {
   "cell_type": "code",
   "execution_count": 19,
   "id": "7be8ae34-9273-4158-9191-f44bf301fb45",
   "metadata": {},
   "outputs": [],
   "source": [
    "mode_values = df.mode().iloc[0]"
   ]
  },
  {
   "cell_type": "code",
   "execution_count": 21,
   "id": "308afc2f-b1ed-4e04-89c8-73a934a30415",
   "metadata": {},
   "outputs": [
    {
     "name": "stdout",
     "output_type": "stream",
     "text": [
      "\n",
      "Mode:\n",
      " Unnamed: 0     1.0\n",
      "speed         20.0\n",
      "dist          26.0\n",
      "Name: 0, dtype: float64\n"
     ]
    }
   ],
   "source": [
    "print(\"\\nMode:\\n\", mode_values)"
   ]
  },
  {
   "cell_type": "code",
   "execution_count": 23,
   "id": "691621f8-8b8b-4ae9-a9a0-6838475852e1",
   "metadata": {},
   "outputs": [],
   "source": [
    "std_values = df.std()"
   ]
  },
  {
   "cell_type": "code",
   "execution_count": 25,
   "id": "54331468-7288-4aca-8c0a-b96ee51b0eb1",
   "metadata": {},
   "outputs": [
    {
     "name": "stdout",
     "output_type": "stream",
     "text": [
      "\n",
      "Standard Deviation:\n",
      " Unnamed: 0    14.577380\n",
      "speed          5.287644\n",
      "dist          25.769377\n",
      "dtype: float64\n"
     ]
    }
   ],
   "source": [
    "print(\"\\nStandard Deviation:\\n\", std_values)"
   ]
  },
  {
   "cell_type": "code",
   "execution_count": 27,
   "id": "41e95ecf-2937-432b-8895-99701c4f50c6",
   "metadata": {},
   "outputs": [
    {
     "name": "stdout",
     "output_type": "stream",
     "text": [
      "\n",
      "Mean:\n",
      " Unnamed: 0    25.50\n",
      "speed         15.40\n",
      "dist          42.98\n",
      "dtype: float64\n"
     ]
    }
   ],
   "source": [
    "mean_values = df.mean()\n",
    "print(\"\\nMean:\\n\", mean_values)"
   ]
  },
  {
   "cell_type": "code",
   "execution_count": 29,
   "id": "bebb9556-affc-490b-ad14-d7613e34aa84",
   "metadata": {},
   "outputs": [
    {
     "name": "stdout",
     "output_type": "stream",
     "text": [
      "\n",
      "Median:\n",
      " Unnamed: 0    25.5\n",
      "speed         15.0\n",
      "dist          36.0\n",
      "dtype: float64\n"
     ]
    }
   ],
   "source": [
    "median_values = df.median()\n",
    "print(\"\\nMedian:\\n\", median_values)"
   ]
  },
  {
   "cell_type": "code",
   "execution_count": 31,
   "id": "a4040dd3-6899-4ad0-9c15-0ce08a2a3b99",
   "metadata": {},
   "outputs": [],
   "source": [
    "mode_values = df.mode().iloc[0]"
   ]
  },
  {
   "cell_type": "code",
   "execution_count": 33,
   "id": "42c0a9e3-622f-4c9e-bf93-2becefe44bc1",
   "metadata": {},
   "outputs": [
    {
     "name": "stdout",
     "output_type": "stream",
     "text": [
      "\n",
      "Mode:\n",
      " Unnamed: 0     1.0\n",
      "speed         20.0\n",
      "dist          26.0\n",
      "Name: 0, dtype: float64\n"
     ]
    }
   ],
   "source": [
    "mode_values = df.mode().iloc[0]\n",
    "print(\"\\nMode:\\n\", mode_values)"
   ]
  },
  {
   "cell_type": "code",
   "execution_count": 35,
   "id": "35220123-d0ff-4943-a74f-39816a464688",
   "metadata": {},
   "outputs": [
    {
     "name": "stdout",
     "output_type": "stream",
     "text": [
      "\n",
      "Standard Deviation:\n",
      " Unnamed: 0    14.577380\n",
      "speed          5.287644\n",
      "dist          25.769377\n",
      "dtype: float64\n"
     ]
    }
   ],
   "source": [
    "std_values = df.std()\n",
    "print(\"\\nStandard Deviation:\\n\", std_values)"
   ]
  },
  {
   "cell_type": "code",
   "execution_count": null,
   "id": "c8c0bd7b-cf76-4c30-8178-051edf0bc922",
   "metadata": {},
   "outputs": [],
   "source": []
  }
 ],
 "metadata": {
  "kernelspec": {
   "display_name": "Python 3 (ipykernel)",
   "language": "python",
   "name": "python3"
  },
  "language_info": {
   "codemirror_mode": {
    "name": "ipython",
    "version": 3
   },
   "file_extension": ".py",
   "mimetype": "text/x-python",
   "name": "python",
   "nbconvert_exporter": "python",
   "pygments_lexer": "ipython3",
   "version": "3.12.4"
  }
 },
 "nbformat": 4,
 "nbformat_minor": 5
}
